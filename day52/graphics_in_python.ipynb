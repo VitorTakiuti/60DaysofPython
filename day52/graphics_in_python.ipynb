{
 "cells": [
  {
   "cell_type": "code",
   "execution_count": null,
   "metadata": {},
   "outputs": [],
   "source": [
    "import matplotlib.pyplot as plt\n",
    "%matplotlib inline"
   ]
  },
  {
   "cell_type": "code",
   "execution_count": null,
   "metadata": {},
   "outputs": [],
   "source": [
    "cathegories = [\"A\", \"B\", \"C\", \"D\"]\n",
    "values = [1, 10, 100, 1000]"
   ]
  },
  {
   "cell_type": "code",
   "execution_count": null,
   "metadata": {},
   "outputs": [],
   "source": [
    "soma_values = sum(values)\n",
    "soma_values"
   ]
  },
  {
   "cell_type": "code",
   "execution_count": null,
   "metadata": {},
   "outputs": [],
   "source": [
    "plt.figure(figsize=(10, 10))\n",
    "plt.pie(values, \n",
    "        labels=cathegories, \n",
    "        autopct='%1.1f%%', \n",
    "        startangle=140, \n",
    "        labeldistance=1.1, \n",
    "        pctdistance=1.2)\n",
    "plt.title(\"Pizza Graphic\")\n",
    "plt.show()"
   ]
  },
  {
   "cell_type": "code",
   "execution_count": null,
   "metadata": {},
   "outputs": [],
   "source": [
    "labels_legend = []\n",
    "for i in range(len(cathegories)):\n",
    "    percentage = round((values[i] / soma_values) * 100, 1)\n",
    "    labels_legend.append(f\"{cathegories[i]} - {percentage}%\")\n",
    "    \n",
    "fig, ax = plt.subplots(figsize = (8, 8))\n",
    "\n",
    "patches, texts = ax.pie(\n",
    "    values,\n",
    "    labels = None,\n",
    "    startangle = 140,\n",
    ")\n",
    "\n",
    "ax.legend(patches, labels_legend, title = \"Cathegories\", loc = \"best\")\n",
    "\n",
    "plt.title(\"Pizza Graphic\")\n",
    "plt.show()"
   ]
  }
 ],
 "metadata": {
  "kernelspec": {
   "display_name": "Python 3",
   "language": "python",
   "name": "python3"
  },
  "language_info": {
   "codemirror_mode": {
    "name": "ipython",
    "version": 3
   },
   "file_extension": ".py",
   "mimetype": "text/x-python",
   "name": "python",
   "nbconvert_exporter": "python",
   "pygments_lexer": "ipython3",
   "version": "3.13.0"
  }
 },
 "nbformat": 4,
 "nbformat_minor": 2
}
